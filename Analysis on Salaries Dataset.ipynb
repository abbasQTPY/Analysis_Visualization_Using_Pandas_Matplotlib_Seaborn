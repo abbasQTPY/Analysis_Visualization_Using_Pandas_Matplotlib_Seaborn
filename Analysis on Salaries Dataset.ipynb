{
 "cells": [
  {
   "cell_type": "markdown",
   "id": "e7dcef15",
   "metadata": {},
   "source": [
    "# Import pandas and read in the Salaries csv file and set it to a DataFrame called df_sal."
   ]
  },
  {
   "cell_type": "code",
   "execution_count": 1,
   "id": "00ebf972",
   "metadata": {},
   "outputs": [
    {
     "name": "stdout",
     "output_type": "stream",
     "text": [
      "DONE\n"
     ]
    }
   ],
   "source": [
    "import pandas as pd\n",
    "import numpy as np\n",
    "print(\"DONE\")"
   ]
  },
  {
   "cell_type": "code",
   "execution_count": 2,
   "id": "162ec536",
   "metadata": {},
   "outputs": [],
   "source": [
    "df_sal = pd.read_csv(\"salaries.csv\")"
   ]
  },
  {
   "cell_type": "markdown",
   "id": "e20227cb",
   "metadata": {},
   "source": [
    "# How many rows and columns are there?"
   ]
  },
  {
   "cell_type": "code",
   "execution_count": 3,
   "id": "a1b3d5ce",
   "metadata": {},
   "outputs": [
    {
     "data": {
      "text/plain": [
       "(148654, 13)"
      ]
     },
     "execution_count": 3,
     "metadata": {},
     "output_type": "execute_result"
    }
   ],
   "source": [
    "df_sal.shape"
   ]
  },
  {
   "cell_type": "markdown",
   "id": "7e23d0dd",
   "metadata": {},
   "source": [
    "# What is the average BasePay?"
   ]
  },
  {
   "cell_type": "code",
   "execution_count": 4,
   "id": "f61d68b7",
   "metadata": {},
   "outputs": [
    {
     "data": {
      "text/plain": [
       "66325.4488404877"
      ]
     },
     "execution_count": 4,
     "metadata": {},
     "output_type": "execute_result"
    }
   ],
   "source": [
    "df_sal[\"BasePay\"].mean()"
   ]
  },
  {
   "cell_type": "markdown",
   "id": "fa2d236b",
   "metadata": {},
   "source": [
    "# What is the highest amount of OvertimePay in the dataset ?"
   ]
  },
  {
   "cell_type": "code",
   "execution_count": 5,
   "id": "c4b257bb",
   "metadata": {},
   "outputs": [
    {
     "data": {
      "text/plain": [
       "245131.88"
      ]
     },
     "execution_count": 5,
     "metadata": {},
     "output_type": "execute_result"
    }
   ],
   "source": [
    "df_sal[\"OvertimePay\"].max()"
   ]
  },
  {
   "cell_type": "markdown",
   "id": "32a76d99",
   "metadata": {},
   "source": [
    "# What is the job title of JOSEPH DRISCOLL ? Note: Use all caps, otherwise you may get an answer that doesn't match up (there is also a lowercase Joseph Driscoll). ?"
   ]
  },
  {
   "cell_type": "code",
   "execution_count": 6,
   "id": "27512c77",
   "metadata": {},
   "outputs": [
    {
     "data": {
      "text/plain": [
       "24    CAPTAIN, FIRE SUPPRESSION\n",
       "Name: JobTitle, dtype: object"
      ]
     },
     "execution_count": 6,
     "metadata": {},
     "output_type": "execute_result"
    }
   ],
   "source": [
    "df_sal[df_sal[\"EmployeeName\"]==\"JOSEPH DRISCOLL\"][\"JobTitle\"]\n"
   ]
  },
  {
   "cell_type": "markdown",
   "id": "f9b8ac99",
   "metadata": {},
   "source": [
    "# How much does JOSEPH DRISCOLL make (including benefits)?"
   ]
  },
  {
   "cell_type": "code",
   "execution_count": 7,
   "id": "490adf82",
   "metadata": {},
   "outputs": [
    {
     "data": {
      "text/plain": [
       "24    270324.91\n",
       "Name: TotalPayBenefits, dtype: float64"
      ]
     },
     "execution_count": 7,
     "metadata": {},
     "output_type": "execute_result"
    }
   ],
   "source": [
    "df_sal[df_sal[\"EmployeeName\"]==\"JOSEPH DRISCOLL\"][\"TotalPayBenefits\"]"
   ]
  },
  {
   "cell_type": "markdown",
   "id": "ce877299",
   "metadata": {},
   "source": [
    "# What is the name of highest paid person (including benefits)?"
   ]
  },
  {
   "cell_type": "code",
   "execution_count": 8,
   "id": "435af47a",
   "metadata": {},
   "outputs": [
    {
     "data": {
      "text/plain": [
       "0    NATHANIEL FORD\n",
       "Name: EmployeeName, dtype: object"
      ]
     },
     "execution_count": 8,
     "metadata": {},
     "output_type": "execute_result"
    }
   ],
   "source": [
    "df_sal[\"TotalPayBenefits\"].max()\n",
    "df_sal[df_sal[\"TotalPayBenefits\"]==567595.43][\"EmployeeName\"]"
   ]
  },
  {
   "cell_type": "markdown",
   "id": "cc84f790",
   "metadata": {},
   "source": [
    "## What is the name of lowest paid person (including benefits)? Do you notice something strange about how much he or she is paid?"
   ]
  },
  {
   "cell_type": "code",
   "execution_count": 9,
   "id": "cab165df",
   "metadata": {},
   "outputs": [
    {
     "data": {
      "text/plain": [
       "148653    Joe Lopez\n",
       "Name: EmployeeName, dtype: object"
      ]
     },
     "execution_count": 9,
     "metadata": {},
     "output_type": "execute_result"
    }
   ],
   "source": [
    "df_sal[\"TotalPayBenefits\"].min()\n",
    "df_sal[df_sal[\"TotalPayBenefits\"]==-618.13][\"EmployeeName\"]"
   ]
  },
  {
   "cell_type": "markdown",
   "id": "49accf42",
   "metadata": {},
   "source": [
    "## What was the average (mean) BasePay of all employees per year? (2011-2014) ?2"
   ]
  },
  {
   "cell_type": "code",
   "execution_count": 10,
   "id": "bf4f5045",
   "metadata": {},
   "outputs": [
    {
     "data": {
      "text/plain": [
       "Year\n",
       "2011    63595.956517\n",
       "2012    65436.406857\n",
       "2013    69630.030216\n",
       "2014    66564.421924\n",
       "Name: BasePay, dtype: float64"
      ]
     },
     "execution_count": 10,
     "metadata": {},
     "output_type": "execute_result"
    }
   ],
   "source": [
    "df_sal.groupby(\"Year\").mean()[\"BasePay\"]"
   ]
  },
  {
   "cell_type": "markdown",
   "id": "c639fce2",
   "metadata": {},
   "source": [
    "## What are the top 5 most common jobs?"
   ]
  },
  {
   "cell_type": "code",
   "execution_count": 11,
   "id": "a902b3e6",
   "metadata": {},
   "outputs": [
    {
     "data": {
      "text/plain": [
       "Transit Operator                7036\n",
       "Special Nurse                   4389\n",
       "Registered Nurse                3736\n",
       "Public Svc Aide-Public Works    2518\n",
       "Police Officer 3                2421\n",
       "Name: JobTitle, dtype: int64"
      ]
     },
     "execution_count": 11,
     "metadata": {},
     "output_type": "execute_result"
    }
   ],
   "source": [
    "df_sal[\"JobTitle\"].value_counts().head()\n"
   ]
  },
  {
   "cell_type": "markdown",
   "id": "91cefb95",
   "metadata": {},
   "source": [
    "## How many Job Titles were represented by only one person in 2013? (e.g. Job Titles with only one occurrence in 2013?) "
   ]
  },
  {
   "cell_type": "code",
   "execution_count": 12,
   "id": "eeb60174",
   "metadata": {},
   "outputs": [
    {
     "data": {
      "text/plain": [
       "202"
      ]
     },
     "execution_count": 12,
     "metadata": {},
     "output_type": "execute_result"
    }
   ],
   "source": [
    "(df_sal[df_sal['Year']==2013]['JobTitle'].value_counts()==1).sum()\n"
   ]
  }
 ],
 "metadata": {
  "kernelspec": {
   "display_name": "Python 3 (ipykernel)",
   "language": "python",
   "name": "python3"
  },
  "language_info": {
   "codemirror_mode": {
    "name": "ipython",
    "version": 3
   },
   "file_extension": ".py",
   "mimetype": "text/x-python",
   "name": "python",
   "nbconvert_exporter": "python",
   "pygments_lexer": "ipython3",
   "version": "3.9.5"
  }
 },
 "nbformat": 4,
 "nbformat_minor": 5
}
