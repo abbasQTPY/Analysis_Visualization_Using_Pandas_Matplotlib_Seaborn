{
 "cells": [
  {
   "cell_type": "code",
   "execution_count": 1,
   "id": "a31c446f",
   "metadata": {},
   "outputs": [],
   "source": [
    "import matplotlib as mp\n",
    "import matplotlib.pyplot as plt\n",
    "import seaborn as sns\n",
    "import pandas as pd\n",
    "import numpy as np\n",
    "from datetime import date\n",
    "from datetime import time"
   ]
  },
  {
   "cell_type": "code",
   "execution_count": 2,
   "id": "b7af6df3",
   "metadata": {},
   "outputs": [],
   "source": [
    "taxi = sns.load_dataset(\"taxis\")"
   ]
  },
  {
   "cell_type": "markdown",
   "id": "89e16a9e",
   "metadata": {},
   "source": [
    "### FILLING NULL VALUES USING FORWARD FILL METHOD"
   ]
  },
  {
   "cell_type": "code",
   "execution_count": 3,
   "id": "09cad619",
   "metadata": {},
   "outputs": [],
   "source": [
    "taxi.fillna(method=\"ffill\",inplace=True)"
   ]
  },
  {
   "cell_type": "markdown",
   "id": "5540e487",
   "metadata": {},
   "source": [
    "### CORRELATION OF ALL ATTRIBUTES WITH EACH OTHER"
   ]
  },
  {
   "cell_type": "code",
   "execution_count": 4,
   "id": "a5d837e5",
   "metadata": {},
   "outputs": [
    {
     "data": {
      "text/plain": [
       "<AxesSubplot:>"
      ]
     },
     "execution_count": 4,
     "metadata": {},
     "output_type": "execute_result"
    },
    {
     "data": {
      "image/png": "[encoded data removed]",
      "text/plain": [
       "<Figure size 432x288 with 2 Axes>"
      ]
     },
     "metadata": {
      "needs_background": "light"
     },
     "output_type": "display_data"
    }
   ],
   "source": [
    "sns.heatmap(taxi.corr(),annot=True)"
   ]
  },
  {
   "cell_type": "markdown",
   "id": "8b2fa78c",
   "metadata": {},
   "source": [
    "### REPLACING ZERO WITH FORWARD FILLING METHOD"
   ]
  },
  {
   "cell_type": "code",
   "execution_count": 5,
   "id": "3372676f",
   "metadata": {},
   "outputs": [],
   "source": [
    "taxi['passengers'].replace(to_replace=0, method='ffill',inplace=True)"
   ]
  },
  {
   "cell_type": "markdown",
   "id": "60125fae",
   "metadata": {},
   "source": [
    "### CREATING PIVOT TABLE ON PAYMENT "
   ]
  },
  {
   "cell_type": "code",
   "execution_count": 6,
   "id": "20c150f7",
   "metadata": {},
   "outputs": [
    {
     "data": {
      "text/html": [
       "<div>\n",
       "<style scoped>\n",
       "    .dataframe tbody tr th:only-of-type {\n",
       "        vertical-align: middle;\n",
       "    }\n",
       "\n",
       "    .dataframe tbody tr th {\n",
       "        vertical-align: top;\n",
       "    }\n",
       "\n",
       "    .dataframe thead th {\n",
       "        text-align: right;\n",
       "    }\n",
       "</style>\n",
       "<table border=\"1\" class=\"dataframe\">\n",
       "  <thead>\n",
       "    <tr style=\"text-align: right;\">\n",
       "      <th></th>\n",
       "      <th>distance</th>\n",
       "      <th>fare</th>\n",
       "      <th>passengers</th>\n",
       "      <th>tip</th>\n",
       "      <th>tolls</th>\n",
       "      <th>total</th>\n",
       "    </tr>\n",
       "    <tr>\n",
       "      <th>payment</th>\n",
       "      <th></th>\n",
       "      <th></th>\n",
       "      <th></th>\n",
       "      <th></th>\n",
       "      <th></th>\n",
       "      <th></th>\n",
       "    </tr>\n",
       "  </thead>\n",
       "  <tbody>\n",
       "    <tr>\n",
       "      <th>cash</th>\n",
       "      <td>2.545195</td>\n",
       "      <td>11.638234</td>\n",
       "      <td>1.559517</td>\n",
       "      <td>0.000000</td>\n",
       "      <td>0.189473</td>\n",
       "      <td>14.724471</td>\n",
       "    </tr>\n",
       "    <tr>\n",
       "      <th>credit card</th>\n",
       "      <td>3.214202</td>\n",
       "      <td>13.665590</td>\n",
       "      <td>1.560738</td>\n",
       "      <td>2.761892</td>\n",
       "      <td>0.378974</td>\n",
       "      <td>20.017844</td>\n",
       "    </tr>\n",
       "  </tbody>\n",
       "</table>\n",
       "</div>"
      ],
      "text/plain": [
       "             distance       fare  passengers       tip     tolls      total\n",
       "payment                                                                    \n",
       "cash         2.545195  11.638234    1.559517  0.000000  0.189473  14.724471\n",
       "credit card  3.214202  13.665590    1.560738  2.761892  0.378974  20.017844"
      ]
     },
     "execution_count": 6,
     "metadata": {},
     "output_type": "execute_result"
    }
   ],
   "source": [
    "pd.pivot_table(taxi,index=[\"payment\"])"
   ]
  },
  {
   "cell_type": "markdown",
   "id": "5957fbb0",
   "metadata": {},
   "source": [
    "### Comparing Fare And Passengers"
   ]
  },
  {
   "cell_type": "code",
   "execution_count": 7,
   "id": "814374c0",
   "metadata": {},
   "outputs": [
    {
     "data": {
      "text/plain": [
       "Text(0.5, 1.0, 'Comparison of Fare And Passengers')"
      ]
     },
     "execution_count": 7,
     "metadata": {},
     "output_type": "execute_result"
    },
    {
     "data": {
      "image/png": "[encoded data removed]",
      "text/plain": [
       "<Figure size 432x288 with 1 Axes>"
      ]
     },
     "metadata": {
      "needs_background": "light"
     },
     "output_type": "display_data"
    }
   ],
   "source": [
    "passAndfare=taxi.pivot_table('fare', index='passengers',aggfunc=\"count\").plot().set_title(\"Comparison of Fare And Passengers\")\n",
    "passAndfare"
   ]
  },
  {
   "cell_type": "markdown",
   "id": "4b8738e0",
   "metadata": {},
   "source": [
    "### Comparing Fare And Passengers (BAR_PLOT)"
   ]
  },
  {
   "cell_type": "code",
   "execution_count": 8,
   "id": "164d41b6",
   "metadata": {},
   "outputs": [
    {
     "data": {
      "text/plain": [
       "Text(0.5, 1.0, 'Comparison of Fare And Passengers')"
      ]
     },
     "execution_count": 8,
     "metadata": {},
     "output_type": "execute_result"
    },
    {
     "data": {
      "image/png": "[encoded data removed]",
      "text/plain": [
       "<Figure size 432x288 with 1 Axes>"
      ]
     },
     "metadata": {
      "needs_background": "light"
     },
     "output_type": "display_data"
    }
   ],
   "source": [
    "passAndfare=taxi.pivot_table('fare', columns=['passengers'],aggfunc='count')\n",
    "passAndfare\n",
    "sns.barplot(data=passAndfare).set_title(\"Comparison of Fare And Passengers\")\n"
   ]
  },
  {
   "cell_type": "markdown",
   "id": "41768a25",
   "metadata": {},
   "source": [
    "### counting total payment wrt passengers"
   ]
  },
  {
   "cell_type": "code",
   "execution_count": 9,
   "id": "c6acb7a4",
   "metadata": {
    "scrolled": true
   },
   "outputs": [
    {
     "data": {
      "text/html": [
       "<div>\n",
       "<style scoped>\n",
       "    .dataframe tbody tr th:only-of-type {\n",
       "        vertical-align: middle;\n",
       "    }\n",
       "\n",
       "    .dataframe tbody tr th {\n",
       "        vertical-align: top;\n",
       "    }\n",
       "\n",
       "    .dataframe thead th {\n",
       "        text-align: right;\n",
       "    }\n",
       "</style>\n",
       "<table border=\"1\" class=\"dataframe\">\n",
       "  <thead>\n",
       "    <tr style=\"text-align: right;\">\n",
       "      <th>passengers</th>\n",
       "      <th>1</th>\n",
       "      <th>2</th>\n",
       "      <th>3</th>\n",
       "      <th>4</th>\n",
       "      <th>5</th>\n",
       "      <th>6</th>\n",
       "    </tr>\n",
       "  </thead>\n",
       "  <tbody>\n",
       "    <tr>\n",
       "      <th>payment</th>\n",
       "      <td>4753</td>\n",
       "      <td>887</td>\n",
       "      <td>248</td>\n",
       "      <td>111</td>\n",
       "      <td>281</td>\n",
       "      <td>153</td>\n",
       "    </tr>\n",
       "  </tbody>\n",
       "</table>\n",
       "</div>"
      ],
      "text/plain": [
       "passengers     1    2    3    4    5    6\n",
       "payment     4753  887  248  111  281  153"
      ]
     },
     "execution_count": 9,
     "metadata": {},
     "output_type": "execute_result"
    }
   ],
   "source": [
    "cashORcredit=taxi.pivot_table('payment', columns=['passengers'],aggfunc='count')\n",
    "cashORcredit"
   ]
  },
  {
   "cell_type": "markdown",
   "id": "89f2bd94",
   "metadata": {},
   "source": [
    "### Data wrt Cash And Credit"
   ]
  },
  {
   "cell_type": "code",
   "execution_count": 10,
   "id": "ea4c749a",
   "metadata": {},
   "outputs": [
    {
     "data": {
      "text/plain": [
       "Text(0.5, 1.0, 'Cash And Credit')"
      ]
     },
     "execution_count": 10,
     "metadata": {},
     "output_type": "execute_result"
    },
    {
     "data": {
      "image/png": "[encoded data removed]",
      "text/plain": [
       "<Figure size 432x288 with 1 Axes>"
      ]
     },
     "metadata": {
      "needs_background": "light"
     },
     "output_type": "display_data"
    }
   ],
   "source": [
    "sns.countplot(x=taxi[\"payment\"],hue=taxi[\"passengers\"]).set_title(\"Cash And Credit\")"
   ]
  },
  {
   "cell_type": "markdown",
   "id": "0f875d40",
   "metadata": {},
   "source": [
    "### total no. of cars wrt color"
   ]
  },
  {
   "cell_type": "code",
   "execution_count": 11,
   "id": "4430506b",
   "metadata": {
    "scrolled": true
   },
   "outputs": [
    {
     "data": {
      "text/plain": [
       "yellow    5451\n",
       "green      982\n",
       "Name: color, dtype: int64"
      ]
     },
     "execution_count": 11,
     "metadata": {},
     "output_type": "execute_result"
    }
   ],
   "source": [
    "y_g=taxi['color'].value_counts()\n",
    "y_g"
   ]
  },
  {
   "cell_type": "code",
   "execution_count": 12,
   "id": "eca4669e",
   "metadata": {
    "scrolled": true
   },
   "outputs": [
    {
     "name": "stderr",
     "output_type": "stream",
     "text": [
      "c:\\users\\hp\\appdata\\local\\programs\\python\\python39\\lib\\site-packages\\seaborn\\_decorators.py:36: FutureWarning: Pass the following variable as a keyword arg: x. From version 0.12, the only valid positional argument will be `data`, and passing other arguments without an explicit keyword will result in an error or misinterpretation.\n",
      "  warnings.warn(\n"
     ]
    },
    {
     "data": {
      "text/plain": [
       "Text(0.5, 1.0, 'Total no. of Cars WRT Color')"
      ]
     },
     "execution_count": 12,
     "metadata": {},
     "output_type": "execute_result"
    },
    {
     "data": {
      "image/png": "[encoded data removed]",
      "text/plain": [
       "<Figure size 432x288 with 1 Axes>"
      ]
     },
     "metadata": {
      "needs_background": "light"
     },
     "output_type": "display_data"
    }
   ],
   "source": [
    "sns.countplot(y_g).set_title(\"Total no. of Cars WRT Color\")"
   ]
  },
  {
   "cell_type": "code",
   "execution_count": 13,
   "id": "e8ab340c",
   "metadata": {},
   "outputs": [
    {
     "data": {
      "text/plain": [
       "color\n",
       "green      982\n",
       "yellow    5451\n",
       "Name: fare, dtype: int64"
      ]
     },
     "execution_count": 13,
     "metadata": {},
     "output_type": "execute_result"
    }
   ],
   "source": [
    "fareAndColor=taxi.groupby(\"color\").count()\n",
    "fareAndColor[\"fare\"]"
   ]
  },
  {
   "cell_type": "code",
   "execution_count": 14,
   "id": "6e254d25",
   "metadata": {},
   "outputs": [
    {
     "data": {
      "text/plain": [
       "color\n",
       "green     13788.15\n",
       "yellow    70426.72\n",
       "Name: fare, dtype: float64"
      ]
     },
     "execution_count": 14,
     "metadata": {},
     "output_type": "execute_result"
    }
   ],
   "source": [
    "fareAndColor=taxi.groupby(\"color\").sum()\n",
    "fareAndColor[\"fare\"]"
   ]
  },
  {
   "cell_type": "code",
   "execution_count": 15,
   "id": "edc1ef14",
   "metadata": {},
   "outputs": [
    {
     "data": {
      "text/plain": [
       "Text(0.5, 1.0, 'Average Fare According to Color')"
      ]
     },
     "execution_count": 15,
     "metadata": {},
     "output_type": "execute_result"
    },
    {
     "data": {
      "image/png": "[encoded data removed]",
      "text/plain": [
       "<Figure size 432x288 with 1 Axes>"
      ]
     },
     "metadata": {
      "needs_background": "light"
     },
     "output_type": "display_data"
    }
   ],
   "source": [
    "sns.barplot(y=taxi[\"fare\"],x=taxi[\"color\"]).set_title(\"Average Fare According to Color\")"
   ]
  },
  {
   "cell_type": "code",
   "execution_count": 16,
   "id": "17561088",
   "metadata": {},
   "outputs": [
    {
     "data": {
      "text/html": [
       "<div>\n",
       "<style scoped>\n",
       "    .dataframe tbody tr th:only-of-type {\n",
       "        vertical-align: middle;\n",
       "    }\n",
       "\n",
       "    .dataframe tbody tr th {\n",
       "        vertical-align: top;\n",
       "    }\n",
       "\n",
       "    .dataframe thead th {\n",
       "        text-align: right;\n",
       "    }\n",
       "</style>\n",
       "<table border=\"1\" class=\"dataframe\">\n",
       "  <thead>\n",
       "    <tr style=\"text-align: right;\">\n",
       "      <th></th>\n",
       "      <th>passengers</th>\n",
       "      <th>distance</th>\n",
       "      <th>fare</th>\n",
       "      <th>tip</th>\n",
       "      <th>tolls</th>\n",
       "      <th>total</th>\n",
       "    </tr>\n",
       "    <tr>\n",
       "      <th>color</th>\n",
       "      <th></th>\n",
       "      <th></th>\n",
       "      <th></th>\n",
       "      <th></th>\n",
       "      <th></th>\n",
       "      <th></th>\n",
       "    </tr>\n",
       "  </thead>\n",
       "  <tbody>\n",
       "    <tr>\n",
       "      <th>green</th>\n",
       "      <td>1228</td>\n",
       "      <td>3345.95</td>\n",
       "      <td>13788.15</td>\n",
       "      <td>781.14</td>\n",
       "      <td>270.37</td>\n",
       "      <td>16186.91</td>\n",
       "    </tr>\n",
       "    <tr>\n",
       "      <th>yellow</th>\n",
       "      <td>8810</td>\n",
       "      <td>16111.41</td>\n",
       "      <td>70426.72</td>\n",
       "      <td>11951.18</td>\n",
       "      <td>1822.11</td>\n",
       "      <td>102938.06</td>\n",
       "    </tr>\n",
       "  </tbody>\n",
       "</table>\n",
       "</div>"
      ],
      "text/plain": [
       "        passengers  distance      fare       tip    tolls      total\n",
       "color                                                               \n",
       "green         1228   3345.95  13788.15    781.14   270.37   16186.91\n",
       "yellow        8810  16111.41  70426.72  11951.18  1822.11  102938.06"
      ]
     },
     "execution_count": 16,
     "metadata": {},
     "output_type": "execute_result"
    }
   ],
   "source": [
    "fareAndColor_T=taxi.groupby(\"color\").sum()\n",
    "fareAndColor_T"
   ]
  },
  {
   "cell_type": "code",
   "execution_count": 17,
   "id": "3511e80e",
   "metadata": {},
   "outputs": [
    {
     "data": {
      "text/plain": [
       "Text(0.5, 1.0, 'Data Comparssion According To Color')"
      ]
     },
     "execution_count": 17,
     "metadata": {},
     "output_type": "execute_result"
    },
    {
     "data": {
      "image/png": "[encoded data removed]",
      "text/plain": [
       "<Figure size 432x288 with 1 Axes>"
      ]
     },
     "metadata": {
      "needs_background": "light"
     },
     "output_type": "display_data"
    }
   ],
   "source": [
    "fareAndColor_T.plot(kind=\"bar\").set_title(\"Data Comparssion According To Color\")"
   ]
  },
  {
   "cell_type": "code",
   "execution_count": 18,
   "id": "db08c371",
   "metadata": {},
   "outputs": [
    {
     "data": {
      "text/html": [
       "<div>\n",
       "<style scoped>\n",
       "    .dataframe tbody tr th:only-of-type {\n",
       "        vertical-align: middle;\n",
       "    }\n",
       "\n",
       "    .dataframe tbody tr th {\n",
       "        vertical-align: top;\n",
       "    }\n",
       "\n",
       "    .dataframe thead th {\n",
       "        text-align: right;\n",
       "    }\n",
       "</style>\n",
       "<table border=\"1\" class=\"dataframe\">\n",
       "  <thead>\n",
       "    <tr style=\"text-align: right;\">\n",
       "      <th></th>\n",
       "      <th>passengers</th>\n",
       "      <th>distance</th>\n",
       "      <th>fare</th>\n",
       "      <th>tip</th>\n",
       "      <th>tolls</th>\n",
       "      <th>total</th>\n",
       "    </tr>\n",
       "    <tr>\n",
       "      <th>pickup_borough</th>\n",
       "      <th></th>\n",
       "      <th></th>\n",
       "      <th></th>\n",
       "      <th></th>\n",
       "      <th></th>\n",
       "      <th></th>\n",
       "    </tr>\n",
       "  </thead>\n",
       "  <tbody>\n",
       "    <tr>\n",
       "      <th>Bronx</th>\n",
       "      <td>119</td>\n",
       "      <td>566.86</td>\n",
       "      <td>2078.91</td>\n",
       "      <td>14.71</td>\n",
       "      <td>77.04</td>\n",
       "      <td>2253.76</td>\n",
       "    </tr>\n",
       "    <tr>\n",
       "      <th>Brooklyn</th>\n",
       "      <td>504</td>\n",
       "      <td>1554.47</td>\n",
       "      <td>6332.48</td>\n",
       "      <td>370.11</td>\n",
       "      <td>109.44</td>\n",
       "      <td>7372.48</td>\n",
       "    </tr>\n",
       "    <tr>\n",
       "      <th>Manhattan</th>\n",
       "      <td>8392</td>\n",
       "      <td>12399.76</td>\n",
       "      <td>59307.42</td>\n",
       "      <td>10325.37</td>\n",
       "      <td>771.12</td>\n",
       "      <td>88539.11</td>\n",
       "    </tr>\n",
       "    <tr>\n",
       "      <th>Queens</th>\n",
       "      <td>1023</td>\n",
       "      <td>4936.27</td>\n",
       "      <td>16496.06</td>\n",
       "      <td>2022.13</td>\n",
       "      <td>1134.88</td>\n",
       "      <td>20959.62</td>\n",
       "    </tr>\n",
       "  </tbody>\n",
       "</table>\n",
       "</div>"
      ],
      "text/plain": [
       "                passengers  distance      fare       tip    tolls     total\n",
       "pickup_borough                                                             \n",
       "Bronx                  119    566.86   2078.91     14.71    77.04   2253.76\n",
       "Brooklyn               504   1554.47   6332.48    370.11   109.44   7372.48\n",
       "Manhattan             8392  12399.76  59307.42  10325.37   771.12  88539.11\n",
       "Queens                1023   4936.27  16496.06   2022.13  1134.88  20959.62"
      ]
     },
     "execution_count": 18,
     "metadata": {},
     "output_type": "execute_result"
    }
   ],
   "source": [
    "pickup_T=taxi.groupby(\"pickup_borough\").sum()\n",
    "pickup_T"
   ]
  },
  {
   "cell_type": "code",
   "execution_count": 19,
   "id": "cd283f31",
   "metadata": {},
   "outputs": [
    {
     "data": {
      "text/plain": [
       "Text(0.5, 1.0, 'Data Comparsion According To Pickup')"
      ]
     },
     "execution_count": 19,
     "metadata": {},
     "output_type": "execute_result"
    },
    {
     "data": {
      "image/png": "[encoded data removed]",
      "text/plain": [
       "<Figure size 432x288 with 1 Axes>"
      ]
     },
     "metadata": {
      "needs_background": "light"
     },
     "output_type": "display_data"
    }
   ],
   "source": [
    "pickup_T.plot(kind=\"bar\").set_title(\"Data Comparsion According To Pickup\")"
   ]
  },
  {
   "cell_type": "code",
   "execution_count": 20,
   "id": "3756497f",
   "metadata": {},
   "outputs": [
    {
     "data": {
      "text/plain": [
       "Text(0.5, 1.0, 'Drop off Comparsion WRT Pickup ')"
      ]
     },
     "execution_count": 20,
     "metadata": {},
     "output_type": "execute_result"
    },
    {
     "data": {
      "image/png": "[encoded data removed]",
      "text/plain": [
       "<Figure size 432x288 with 1 Axes>"
      ]
     },
     "metadata": {
      "needs_background": "light"
     },
     "output_type": "display_data"
    }
   ],
   "source": [
    "sns.barplot(y=taxi[\"passengers\"],x=taxi[\"pickup_borough\"],hue=taxi[\"dropoff_borough\"]).set_title(\"Drop off Comparsion WRT Pickup \")\n"
   ]
  },
  {
   "cell_type": "code",
   "execution_count": null,
   "id": "3144f109",
   "metadata": {},
   "outputs": [],
   "source": []
  }
 ],
 "metadata": {
  "kernelspec": {
   "display_name": "Python 3 (ipykernel)",
   "language": "python",
   "name": "python3"
  },
  "language_info": {
   "codemirror_mode": {
    "name": "ipython",
    "version": 3
   },
   "file_extension": ".py",
   "mimetype": "text/x-python",
   "name": "python",
   "nbconvert_exporter": "python",
   "pygments_lexer": "ipython3",
   "version": "3.9.5"
  }
 },
 "nbformat": 4,
 "nbformat_minor": 5
}
