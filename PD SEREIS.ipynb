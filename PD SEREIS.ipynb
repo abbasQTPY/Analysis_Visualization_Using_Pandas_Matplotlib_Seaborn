{
 "cells": [
  {
   "cell_type": "code",
   "execution_count": 1,
   "id": "c98ed2e5",
   "metadata": {},
   "outputs": [],
   "source": [
    "import pandas as pd"
   ]
  },
  {
   "cell_type": "code",
   "execution_count": 3,
   "id": "eeb0b417",
   "metadata": {},
   "outputs": [],
   "source": [
    "import numpy as np"
   ]
  },
  {
   "cell_type": "code",
   "execution_count": 6,
   "id": "2a36b562",
   "metadata": {},
   "outputs": [],
   "source": [
    "labels=[\"DATA SCI\",\"CLOUD COMPUTING\",\"WEBTECH\"]\n",
    "list=[80,20,56]\n",
    "arr= np.array([10,20,30])\n",
    "dict= {\"a\":12,\"b\":6,\"c\":45}"
   ]
  },
  {
   "cell_type": "code",
   "execution_count": 7,
   "id": "d5ac5d54",
   "metadata": {},
   "outputs": [
    {
     "data": {
      "text/plain": [
       "DATA SCI           80\n",
       "CLOUD COMPUTING    20\n",
       "WEBTECH            56\n",
       "dtype: int64"
      ]
     },
     "execution_count": 7,
     "metadata": {},
     "output_type": "execute_result"
    }
   ],
   "source": [
    "pd.Series(list,labels)"
   ]
  },
  {
   "cell_type": "code",
   "execution_count": 8,
   "id": "2d19cc09",
   "metadata": {},
   "outputs": [
    {
     "data": {
      "text/plain": [
       "a    12\n",
       "b     6\n",
       "c    45\n",
       "dtype: int64"
      ]
     },
     "execution_count": 8,
     "metadata": {},
     "output_type": "execute_result"
    }
   ],
   "source": [
    "pd.Series(dict)"
   ]
  },
  {
   "cell_type": "code",
   "execution_count": 11,
   "id": "5920d29c",
   "metadata": {},
   "outputs": [
    {
     "data": {
      "text/plain": [
       "80   NaN\n",
       "20   NaN\n",
       "56   NaN\n",
       "dtype: float64"
      ]
     },
     "execution_count": 11,
     "metadata": {},
     "output_type": "execute_result"
    }
   ],
   "source": [
    "pd.Series(dict,list)"
   ]
  },
  {
   "cell_type": "code",
   "execution_count": 12,
   "id": "ce23bf77",
   "metadata": {},
   "outputs": [
    {
     "data": {
      "text/plain": [
       "a    10\n",
       "b    20\n",
       "c    30\n",
       "dtype: int32"
      ]
     },
     "execution_count": 12,
     "metadata": {},
     "output_type": "execute_result"
    }
   ],
   "source": [
    "pd.Series(arr,dict)"
   ]
  },
  {
   "cell_type": "code",
   "execution_count": 13,
   "id": "23f6a691",
   "metadata": {},
   "outputs": [
    {
     "data": {
      "text/plain": [
       "10   NaN\n",
       "20   NaN\n",
       "30   NaN\n",
       "dtype: float64"
      ]
     },
     "execution_count": 13,
     "metadata": {},
     "output_type": "execute_result"
    }
   ],
   "source": [
    "pd.Series(dict,arr)"
   ]
  },
  {
   "cell_type": "code",
   "execution_count": 14,
   "id": "b63e6e8b",
   "metadata": {},
   "outputs": [
    {
     "data": {
      "text/plain": [
       "80           DATA SCI\n",
       "20    CLOUD COMPUTING\n",
       "56            WEBTECH\n",
       "dtype: object"
      ]
     },
     "execution_count": 14,
     "metadata": {},
     "output_type": "execute_result"
    }
   ],
   "source": [
    "pd.Series(labels,list)"
   ]
  },
  {
   "cell_type": "code",
   "execution_count": null,
   "id": "e56ef1c4",
   "metadata": {},
   "outputs": [],
   "source": []
  }
 ],
 "metadata": {
  "kernelspec": {
   "display_name": "Python 3 (ipykernel)",
   "language": "python",
   "name": "python3"
  },
  "language_info": {
   "codemirror_mode": {
    "name": "ipython",
    "version": 3
   },
   "file_extension": ".py",
   "mimetype": "text/x-python",
   "name": "python",
   "nbconvert_exporter": "python",
   "pygments_lexer": "ipython3",
   "version": "3.9.5"
  }
 },
 "nbformat": 4,
 "nbformat_minor": 5
}
