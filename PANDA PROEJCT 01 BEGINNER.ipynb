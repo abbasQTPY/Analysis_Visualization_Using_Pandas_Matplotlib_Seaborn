{
 "cells": [
  {
   "cell_type": "code",
   "execution_count": 1,
   "id": "c726a7ba",
   "metadata": {},
   "outputs": [],
   "source": [
    "import pandas as pd\n",
    "import numpy as np\n",
    "from googletrans import Translator"
   ]
  },
  {
   "cell_type": "code",
   "execution_count": 2,
   "id": "81a67437",
   "metadata": {},
   "outputs": [],
   "source": [
    "df=pd.read_csv(\"amazon.csv\",thousands=\".\")"
   ]
  },
  {
   "cell_type": "code",
   "execution_count": null,
   "id": "31d078f0",
   "metadata": {},
   "outputs": [],
   "source": [
    "print(df)"
   ]
  },
  {
   "cell_type": "code",
   "execution_count": null,
   "id": "33d8affa",
   "metadata": {},
   "outputs": [],
   "source": [
    "df.head()"
   ]
  },
  {
   "cell_type": "code",
   "execution_count": null,
   "id": "c840333f",
   "metadata": {},
   "outputs": [],
   "source": [
    "df.tail(20)"
   ]
  },
  {
   "cell_type": "code",
   "execution_count": 3,
   "id": "50dba5fb",
   "metadata": {},
   "outputs": [],
   "source": [
    "df=df.replace(0,np.nan)\n"
   ]
  },
  {
   "cell_type": "code",
   "execution_count": null,
   "id": "25835c42",
   "metadata": {},
   "outputs": [],
   "source": [
    "df"
   ]
  },
  {
   "cell_type": "code",
   "execution_count": null,
   "id": "fc4db2cb",
   "metadata": {},
   "outputs": [],
   "source": [
    "df.tail()"
   ]
  },
  {
   "cell_type": "code",
   "execution_count": null,
   "id": "91049579",
   "metadata": {},
   "outputs": [],
   "source": [
    "df"
   ]
  },
  {
   "cell_type": "code",
   "execution_count": 4,
   "id": "0ea4b667",
   "metadata": {},
   "outputs": [],
   "source": [
    "df2=df.dropna(subset=[\"number\"])"
   ]
  },
  {
   "cell_type": "code",
   "execution_count": null,
   "id": "6f6f97c0",
   "metadata": {},
   "outputs": [],
   "source": [
    "df2\n"
   ]
  },
  {
   "cell_type": "code",
   "execution_count": 5,
   "id": "21e91f86",
   "metadata": {},
   "outputs": [
    {
     "data": {
      "text/html": [
       "<div>\n",
       "<style scoped>\n",
       "    .dataframe tbody tr th:only-of-type {\n",
       "        vertical-align: middle;\n",
       "    }\n",
       "\n",
       "    .dataframe tbody tr th {\n",
       "        vertical-align: top;\n",
       "    }\n",
       "\n",
       "    .dataframe thead th {\n",
       "        text-align: right;\n",
       "    }\n",
       "</style>\n",
       "<table border=\"1\" class=\"dataframe\">\n",
       "  <thead>\n",
       "    <tr style=\"text-align: right;\">\n",
       "      <th></th>\n",
       "      <th>year</th>\n",
       "      <th>state</th>\n",
       "      <th>month</th>\n",
       "      <th>number</th>\n",
       "      <th>date</th>\n",
       "    </tr>\n",
       "  </thead>\n",
       "  <tbody>\n",
       "    <tr>\n",
       "      <th>count</th>\n",
       "      <td>5837.000000</td>\n",
       "      <td>5837</td>\n",
       "      <td>5837</td>\n",
       "      <td>5837.000000</td>\n",
       "      <td>5837</td>\n",
       "    </tr>\n",
       "    <tr>\n",
       "      <th>unique</th>\n",
       "      <td>NaN</td>\n",
       "      <td>23</td>\n",
       "      <td>12</td>\n",
       "      <td>NaN</td>\n",
       "      <td>20</td>\n",
       "    </tr>\n",
       "    <tr>\n",
       "      <th>top</th>\n",
       "      <td>NaN</td>\n",
       "      <td>Rio</td>\n",
       "      <td>Outubro</td>\n",
       "      <td>NaN</td>\n",
       "      <td>1/1/2016</td>\n",
       "    </tr>\n",
       "    <tr>\n",
       "      <th>freq</th>\n",
       "      <td>NaN</td>\n",
       "      <td>661</td>\n",
       "      <td>534</td>\n",
       "      <td>NaN</td>\n",
       "      <td>317</td>\n",
       "    </tr>\n",
       "    <tr>\n",
       "      <th>mean</th>\n",
       "      <td>2007.834847</td>\n",
       "      <td>NaN</td>\n",
       "      <td>NaN</td>\n",
       "      <td>577.947918</td>\n",
       "      <td>NaN</td>\n",
       "    </tr>\n",
       "    <tr>\n",
       "      <th>std</th>\n",
       "      <td>5.649076</td>\n",
       "      <td>NaN</td>\n",
       "      <td>NaN</td>\n",
       "      <td>1625.176973</td>\n",
       "      <td>NaN</td>\n",
       "    </tr>\n",
       "    <tr>\n",
       "      <th>min</th>\n",
       "      <td>1998.000000</td>\n",
       "      <td>NaN</td>\n",
       "      <td>NaN</td>\n",
       "      <td>1.000000</td>\n",
       "      <td>NaN</td>\n",
       "    </tr>\n",
       "    <tr>\n",
       "      <th>25%</th>\n",
       "      <td>2003.000000</td>\n",
       "      <td>NaN</td>\n",
       "      <td>NaN</td>\n",
       "      <td>16.000000</td>\n",
       "      <td>NaN</td>\n",
       "    </tr>\n",
       "    <tr>\n",
       "      <th>50%</th>\n",
       "      <td>2008.000000</td>\n",
       "      <td>NaN</td>\n",
       "      <td>NaN</td>\n",
       "      <td>72.000000</td>\n",
       "      <td>NaN</td>\n",
       "    </tr>\n",
       "    <tr>\n",
       "      <th>75%</th>\n",
       "      <td>2013.000000</td>\n",
       "      <td>NaN</td>\n",
       "      <td>NaN</td>\n",
       "      <td>334.000000</td>\n",
       "      <td>NaN</td>\n",
       "    </tr>\n",
       "    <tr>\n",
       "      <th>max</th>\n",
       "      <td>2017.000000</td>\n",
       "      <td>NaN</td>\n",
       "      <td>NaN</td>\n",
       "      <td>25963.000000</td>\n",
       "      <td>NaN</td>\n",
       "    </tr>\n",
       "  </tbody>\n",
       "</table>\n",
       "</div>"
      ],
      "text/plain": [
       "               year state    month        number      date\n",
       "count   5837.000000  5837     5837   5837.000000      5837\n",
       "unique          NaN    23       12           NaN        20\n",
       "top             NaN   Rio  Outubro           NaN  1/1/2016\n",
       "freq            NaN   661      534           NaN       317\n",
       "mean    2007.834847   NaN      NaN    577.947918       NaN\n",
       "std        5.649076   NaN      NaN   1625.176973       NaN\n",
       "min     1998.000000   NaN      NaN      1.000000       NaN\n",
       "25%     2003.000000   NaN      NaN     16.000000       NaN\n",
       "50%     2008.000000   NaN      NaN     72.000000       NaN\n",
       "75%     2013.000000   NaN      NaN    334.000000       NaN\n",
       "max     2017.000000   NaN      NaN  25963.000000       NaN"
      ]
     },
     "execution_count": 5,
     "metadata": {},
     "output_type": "execute_result"
    }
   ],
   "source": [
    "df2.describe(include=\"all\")"
   ]
  },
  {
   "cell_type": "code",
   "execution_count": 6,
   "id": "4256750d",
   "metadata": {},
   "outputs": [
    {
     "data": {
      "text/plain": [
       "month\n",
       "Abril          28364.0\n",
       "Agosto        740841.0\n",
       "Dezembro      152596.0\n",
       "Fevereiro      30952.0\n",
       "Janeiro        52587.0\n",
       "Julho         217620.0\n",
       "Junho         111405.0\n",
       "Maio           46083.0\n",
       "Março          35118.0\n",
       "Novembro      312326.0\n",
       "Outubro       629665.0\n",
       "Setembro     1015925.0\n",
       "Name: number, dtype: float64"
      ]
     },
     "execution_count": 6,
     "metadata": {},
     "output_type": "execute_result"
    }
   ],
   "source": [
    "forest_fire_month=df2.groupby('month')['number'].sum()\n",
    "forest_fire_month"
   ]
  },
  {
   "cell_type": "code",
   "execution_count": null,
   "id": "7a97e6a2",
   "metadata": {},
   "outputs": [],
   "source": [
    "print(forest_fire_month)"
   ]
  },
  {
   "cell_type": "code",
   "execution_count": 8,
   "id": "52678f4d",
   "metadata": {},
   "outputs": [],
   "source": [
    "\n",
    "months_unique = list(df.month.unique())\n",
    "\n",
    "\n",
    "forest_fire_month=forest_fire_month.reindex(months_unique,axis=0)"
   ]
  },
  {
   "cell_type": "code",
   "execution_count": 9,
   "id": "908edfa2",
   "metadata": {},
   "outputs": [
    {
     "data": {
      "text/plain": [
       "month\n",
       "Janeiro        52587.0\n",
       "Fevereiro      30952.0\n",
       "Março          35118.0\n",
       "Abril          28364.0\n",
       "Maio           46083.0\n",
       "Junho         111405.0\n",
       "Julho         217620.0\n",
       "Agosto        740841.0\n",
       "Setembro     1015925.0\n",
       "Outubro       629665.0\n",
       "Novembro      312326.0\n",
       "Dezembro      152596.0\n",
       "Name: number, dtype: float64"
      ]
     },
     "execution_count": 9,
     "metadata": {},
     "output_type": "execute_result"
    }
   ],
   "source": [
    "forest_fire_month\n"
   ]
  },
  {
   "cell_type": "code",
   "execution_count": 10,
   "id": "8a666c2d",
   "metadata": {},
   "outputs": [],
   "source": [
    "forest_fire_month=forest_fire_month.to_frame()"
   ]
  },
  {
   "cell_type": "code",
   "execution_count": 11,
   "id": "a5e37115",
   "metadata": {},
   "outputs": [],
   "source": [
    "forest_fire_month.reset_index(level=0,inplace=True)"
   ]
  },
  {
   "cell_type": "code",
   "execution_count": 12,
   "id": "42ffad29",
   "metadata": {},
   "outputs": [
    {
     "data": {
      "text/html": [
       "<div>\n",
       "<style scoped>\n",
       "    .dataframe tbody tr th:only-of-type {\n",
       "        vertical-align: middle;\n",
       "    }\n",
       "\n",
       "    .dataframe tbody tr th {\n",
       "        vertical-align: top;\n",
       "    }\n",
       "\n",
       "    .dataframe thead th {\n",
       "        text-align: right;\n",
       "    }\n",
       "</style>\n",
       "<table border=\"1\" class=\"dataframe\">\n",
       "  <thead>\n",
       "    <tr style=\"text-align: right;\">\n",
       "      <th></th>\n",
       "      <th>month</th>\n",
       "      <th>number</th>\n",
       "    </tr>\n",
       "  </thead>\n",
       "  <tbody>\n",
       "    <tr>\n",
       "      <th>0</th>\n",
       "      <td>Janeiro</td>\n",
       "      <td>52587.0</td>\n",
       "    </tr>\n",
       "    <tr>\n",
       "      <th>1</th>\n",
       "      <td>Fevereiro</td>\n",
       "      <td>30952.0</td>\n",
       "    </tr>\n",
       "    <tr>\n",
       "      <th>2</th>\n",
       "      <td>Março</td>\n",
       "      <td>35118.0</td>\n",
       "    </tr>\n",
       "    <tr>\n",
       "      <th>3</th>\n",
       "      <td>Abril</td>\n",
       "      <td>28364.0</td>\n",
       "    </tr>\n",
       "    <tr>\n",
       "      <th>4</th>\n",
       "      <td>Maio</td>\n",
       "      <td>46083.0</td>\n",
       "    </tr>\n",
       "    <tr>\n",
       "      <th>5</th>\n",
       "      <td>Junho</td>\n",
       "      <td>111405.0</td>\n",
       "    </tr>\n",
       "    <tr>\n",
       "      <th>6</th>\n",
       "      <td>Julho</td>\n",
       "      <td>217620.0</td>\n",
       "    </tr>\n",
       "    <tr>\n",
       "      <th>7</th>\n",
       "      <td>Agosto</td>\n",
       "      <td>740841.0</td>\n",
       "    </tr>\n",
       "    <tr>\n",
       "      <th>8</th>\n",
       "      <td>Setembro</td>\n",
       "      <td>1015925.0</td>\n",
       "    </tr>\n",
       "    <tr>\n",
       "      <th>9</th>\n",
       "      <td>Outubro</td>\n",
       "      <td>629665.0</td>\n",
       "    </tr>\n",
       "    <tr>\n",
       "      <th>10</th>\n",
       "      <td>Novembro</td>\n",
       "      <td>312326.0</td>\n",
       "    </tr>\n",
       "    <tr>\n",
       "      <th>11</th>\n",
       "      <td>Dezembro</td>\n",
       "      <td>152596.0</td>\n",
       "    </tr>\n",
       "  </tbody>\n",
       "</table>\n",
       "</div>"
      ],
      "text/plain": [
       "        month     number\n",
       "0     Janeiro    52587.0\n",
       "1   Fevereiro    30952.0\n",
       "2       Março    35118.0\n",
       "3       Abril    28364.0\n",
       "4        Maio    46083.0\n",
       "5       Junho   111405.0\n",
       "6       Julho   217620.0\n",
       "7      Agosto   740841.0\n",
       "8    Setembro  1015925.0\n",
       "9     Outubro   629665.0\n",
       "10   Novembro   312326.0\n",
       "11   Dezembro   152596.0"
      ]
     },
     "execution_count": 12,
     "metadata": {},
     "output_type": "execute_result"
    }
   ],
   "source": [
    "forest_fire_month"
   ]
  },
  {
   "cell_type": "code",
   "execution_count": 14,
   "id": "0296875a",
   "metadata": {},
   "outputs": [
    {
     "name": "stdout",
     "output_type": "stream",
     "text": [
      "Detected(lang=en, confidence=0.6906946)\n",
      "Translated(src=en, dest=en, text=Janeiro, pronunciation=Janeiro, extra_data=\"{'translat...\")\n",
      "...\n",
      "Detected(lang=pt, confidence=1)\n",
      "Translated(src=pt, dest=en, text=February, pronunciation=February, extra_data=\"{'translat...\")\n",
      "...\n",
      "Detected(lang=pt, confidence=1)\n",
      "Translated(src=pt, dest=en, text=March, pronunciation=March, extra_data=\"{'translat...\")\n",
      "...\n",
      "Detected(lang=es, confidence=0.47058824)\n",
      "Translated(src=es, dest=en, text=April, pronunciation=April, extra_data=\"{'translat...\")\n",
      "...\n",
      "Detected(lang=pt, confidence=0.75)\n",
      "Translated(src=pt, dest=en, text=May, pronunciation=May, extra_data=\"{'translat...\")\n",
      "...\n",
      "Detected(lang=pt, confidence=1)\n",
      "Translated(src=pt, dest=en, text=June, pronunciation=June, extra_data=\"{'translat...\")\n",
      "...\n",
      "Detected(lang=pt, confidence=1)\n",
      "Translated(src=pt, dest=en, text=July, pronunciation=July, extra_data=\"{'translat...\")\n",
      "...\n",
      "Detected(lang=es, confidence=0.37796605)\n",
      "Translated(src=es, dest=en, text=August, pronunciation=August, extra_data=\"{'translat...\")\n",
      "...\n",
      "Detected(lang=pt, confidence=0.8515625)\n",
      "Translated(src=pt, dest=en, text=September, pronunciation=September, extra_data=\"{'translat...\")\n",
      "...\n",
      "Detected(lang=pt, confidence=0.97583973)\n",
      "Translated(src=pt, dest=en, text=October, pronunciation=October, extra_data=\"{'translat...\")\n",
      "...\n",
      "Detected(lang=pt, confidence=0.78125)\n",
      "Translated(src=pt, dest=en, text=November, pronunciation=November, extra_data=\"{'translat...\")\n",
      "...\n",
      "Detected(lang=pt, confidence=1)\n",
      "Translated(src=pt, dest=en, text=December, pronunciation=December, extra_data=\"{'translat...\")\n",
      "...\n"
     ]
    }
   ],
   "source": [
    "translator = Translator() #create an object of Translator \n",
    "for month in months_unique: \n",
    "    detected = translator.detect(month)     \n",
    "    translated = translator.translate(month)     \n",
    "    print(detected)     \n",
    "    print(translated)     \n",
    "    print(\"...\")"
   ]
  },
  {
   "cell_type": "code",
   "execution_count": 17,
   "id": "6e86c972",
   "metadata": {},
   "outputs": [
    {
     "name": "stdout",
     "output_type": "stream",
     "text": [
      "December\n"
     ]
    }
   ],
   "source": [
    "print(translated.text)"
   ]
  },
  {
   "cell_type": "code",
   "execution_count": 18,
   "id": "ffc55a56",
   "metadata": {},
   "outputs": [
    {
     "data": {
      "text/html": [
       "<div>\n",
       "<style scoped>\n",
       "    .dataframe tbody tr th:only-of-type {\n",
       "        vertical-align: middle;\n",
       "    }\n",
       "\n",
       "    .dataframe tbody tr th {\n",
       "        vertical-align: top;\n",
       "    }\n",
       "\n",
       "    .dataframe thead th {\n",
       "        text-align: right;\n",
       "    }\n",
       "</style>\n",
       "<table border=\"1\" class=\"dataframe\">\n",
       "  <thead>\n",
       "    <tr style=\"text-align: right;\">\n",
       "      <th></th>\n",
       "      <th>year</th>\n",
       "      <th>state</th>\n",
       "      <th>month</th>\n",
       "      <th>number</th>\n",
       "      <th>date</th>\n",
       "    </tr>\n",
       "  </thead>\n",
       "  <tbody>\n",
       "    <tr>\n",
       "      <th>5</th>\n",
       "      <td>2003</td>\n",
       "      <td>Acre</td>\n",
       "      <td>Janeiro</td>\n",
       "      <td>10.0</td>\n",
       "      <td>1/1/2003</td>\n",
       "    </tr>\n",
       "    <tr>\n",
       "      <th>7</th>\n",
       "      <td>2005</td>\n",
       "      <td>Acre</td>\n",
       "      <td>Janeiro</td>\n",
       "      <td>12.0</td>\n",
       "      <td>1/1/2005</td>\n",
       "    </tr>\n",
       "    <tr>\n",
       "      <th>8</th>\n",
       "      <td>2006</td>\n",
       "      <td>Acre</td>\n",
       "      <td>Janeiro</td>\n",
       "      <td>4.0</td>\n",
       "      <td>1/1/2006</td>\n",
       "    </tr>\n",
       "    <tr>\n",
       "      <th>12</th>\n",
       "      <td>2010</td>\n",
       "      <td>Acre</td>\n",
       "      <td>Janeiro</td>\n",
       "      <td>1.0</td>\n",
       "      <td>1/1/2010</td>\n",
       "    </tr>\n",
       "    <tr>\n",
       "      <th>17</th>\n",
       "      <td>2015</td>\n",
       "      <td>Acre</td>\n",
       "      <td>Janeiro</td>\n",
       "      <td>1.0</td>\n",
       "      <td>1/1/2015</td>\n",
       "    </tr>\n",
       "    <tr>\n",
       "      <th>...</th>\n",
       "      <td>...</td>\n",
       "      <td>...</td>\n",
       "      <td>...</td>\n",
       "      <td>...</td>\n",
       "      <td>...</td>\n",
       "    </tr>\n",
       "    <tr>\n",
       "      <th>6449</th>\n",
       "      <td>2012</td>\n",
       "      <td>Tocantins</td>\n",
       "      <td>Dezembro</td>\n",
       "      <td>128.0</td>\n",
       "      <td>1/1/2012</td>\n",
       "    </tr>\n",
       "    <tr>\n",
       "      <th>6450</th>\n",
       "      <td>2013</td>\n",
       "      <td>Tocantins</td>\n",
       "      <td>Dezembro</td>\n",
       "      <td>85.0</td>\n",
       "      <td>1/1/2013</td>\n",
       "    </tr>\n",
       "    <tr>\n",
       "      <th>6451</th>\n",
       "      <td>2014</td>\n",
       "      <td>Tocantins</td>\n",
       "      <td>Dezembro</td>\n",
       "      <td>223.0</td>\n",
       "      <td>1/1/2014</td>\n",
       "    </tr>\n",
       "    <tr>\n",
       "      <th>6452</th>\n",
       "      <td>2015</td>\n",
       "      <td>Tocantins</td>\n",
       "      <td>Dezembro</td>\n",
       "      <td>373.0</td>\n",
       "      <td>1/1/2015</td>\n",
       "    </tr>\n",
       "    <tr>\n",
       "      <th>6453</th>\n",
       "      <td>2016</td>\n",
       "      <td>Tocantins</td>\n",
       "      <td>Dezembro</td>\n",
       "      <td>119.0</td>\n",
       "      <td>1/1/2016</td>\n",
       "    </tr>\n",
       "  </tbody>\n",
       "</table>\n",
       "<p>5837 rows × 5 columns</p>\n",
       "</div>"
      ],
      "text/plain": [
       "      year      state     month  number      date\n",
       "5     2003       Acre   Janeiro    10.0  1/1/2003\n",
       "7     2005       Acre   Janeiro    12.0  1/1/2005\n",
       "8     2006       Acre   Janeiro     4.0  1/1/2006\n",
       "12    2010       Acre   Janeiro     1.0  1/1/2010\n",
       "17    2015       Acre   Janeiro     1.0  1/1/2015\n",
       "...    ...        ...       ...     ...       ...\n",
       "6449  2012  Tocantins  Dezembro   128.0  1/1/2012\n",
       "6450  2013  Tocantins  Dezembro    85.0  1/1/2013\n",
       "6451  2014  Tocantins  Dezembro   223.0  1/1/2014\n",
       "6452  2015  Tocantins  Dezembro   373.0  1/1/2015\n",
       "6453  2016  Tocantins  Dezembro   119.0  1/1/2016\n",
       "\n",
       "[5837 rows x 5 columns]"
      ]
     },
     "execution_count": 18,
     "metadata": {},
     "output_type": "execute_result"
    }
   ],
   "source": [
    "df2"
   ]
  },
  {
   "cell_type": "code",
   "execution_count": 21,
   "id": "e6b0cd0c",
   "metadata": {},
   "outputs": [],
   "source": [
    "translator1= Translator()\n",
    "for i , m in enumerate (forest_fire_month['month']):\n",
    "    translated = translator1.translate(m)  \n",
    "    month1 = translated.text    \n",
    "    forest_fire_month.at[i, 'month'] = month1\n",
    "    "
   ]
  },
  {
   "cell_type": "code",
   "execution_count": 22,
   "id": "c4c3a9d3",
   "metadata": {},
   "outputs": [
    {
     "name": "stdout",
     "output_type": "stream",
     "text": [
      "        month     number\n",
      "0     Janeiro    52587.0\n",
      "1    February    30952.0\n",
      "2       March    35118.0\n",
      "3       April    28364.0\n",
      "4         May    46083.0\n",
      "5        June   111405.0\n",
      "6        July   217620.0\n",
      "7      August   740841.0\n",
      "8   September  1015925.0\n",
      "9     October   629665.0\n",
      "10   November   312326.0\n",
      "11   December   152596.0\n"
     ]
    }
   ],
   "source": [
    "print(forest_fire_month)"
   ]
  },
  {
   "cell_type": "code",
   "execution_count": null,
   "id": "ad3e9e7c",
   "metadata": {},
   "outputs": [],
   "source": []
  }
 ],
 "metadata": {
  "kernelspec": {
   "display_name": "Python 3 (ipykernel)",
   "language": "python",
   "name": "python3"
  },
  "language_info": {
   "codemirror_mode": {
    "name": "ipython",
    "version": 3
   },
   "file_extension": ".py",
   "mimetype": "text/x-python",
   "name": "python",
   "nbconvert_exporter": "python",
   "pygments_lexer": "ipython3",
   "version": "3.9.5"
  }
 },
 "nbformat": 4,
 "nbformat_minor": 5
}
