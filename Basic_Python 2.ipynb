{
 "cells": [
  {
   "cell_type": "markdown",
   "id": "3f36edbf",
   "metadata": {},
   "source": [
    "# TASK01"
   ]
  },
  {
   "cell_type": "code",
   "execution_count": 1,
   "id": "15ce8a8e",
   "metadata": {},
   "outputs": [
    {
     "name": "stdout",
     "output_type": "stream",
     "text": [
      "*******8*******16*******24*******32*******40*******48*******56*******64*******72*******80"
     ]
    }
   ],
   "source": [
    "for i in range(1,11) :\n",
    "        x=i*8\n",
    "        print(\"*******\"+str(x), end=\"\")\n",
    "        i = i+1\n",
    "        "
   ]
  },
  {
   "cell_type": "markdown",
   "id": "37668826",
   "metadata": {},
   "source": [
    "# TASK02"
   ]
  },
  {
   "cell_type": "code",
   "execution_count": 2,
   "id": "c9c0fbcd",
   "metadata": {},
   "outputs": [
    {
     "name": "stdout",
     "output_type": "stream",
     "text": [
      "50\n",
      "40\n",
      "30\n",
      "20\n",
      "10\n"
     ]
    }
   ],
   "source": [
    "list1 = [10, 20, 30, 40, 50]\n",
    "\n",
    "for i in range( len(list1) - 1,-1,-1) :\n",
    "    print(list1[i])\n"
   ]
  },
  {
   "cell_type": "markdown",
   "id": "ba1e3548",
   "metadata": {},
   "source": [
    "# TASK03"
   ]
  },
  {
   "cell_type": "code",
   "execution_count": 3,
   "id": "70d1887d",
   "metadata": {},
   "outputs": [
    {
     "name": "stdout",
     "output_type": "stream",
     "text": [
      "MAX VALUE IN A GIVEN ARRAY IS:  1134\n",
      "INDEX OF MAX VALUE IN A GIVEN ARRAY IS: 2\n"
     ]
    }
   ],
   "source": [
    "def index_max(arr):\n",
    "    max_value=max(arr)\n",
    "    max_index = arr.index(max_value)\n",
    "\n",
    "    print(\"MAX VALUE IN A GIVEN ARRAY IS: \",max_value)\n",
    "    print(\"INDEX OF MAX VALUE IN A GIVEN ARRAY IS:\", max_index)\n",
    "    \n",
    "arr=[100,999,1134,654]\n",
    "index_max(arr)"
   ]
  },
  {
   "cell_type": "markdown",
   "id": "363b85b6",
   "metadata": {},
   "source": [
    "# TASK04"
   ]
  },
  {
   "cell_type": "code",
   "execution_count": 4,
   "id": "a8200a4c",
   "metadata": {},
   "outputs": [
    {
     "name": "stdout",
     "output_type": "stream",
     "text": [
      "Both Lists are identical\n"
     ]
    }
   ],
   "source": [
    "player1 = [\"Chris\", \"Gayle\", 35, 45.5, 313]\n",
    "player2 = [35, \"Gayle\", \"Chris\", 313, 45.5]\n",
    "\n",
    "player1 = sorted(str(player1))\n",
    "player2 = sorted(str(player2))\n",
    "\n",
    "def check_if(player1,player2):\n",
    "    if(player1 == player2):\n",
    "        print(\"Both Lists are identical\")\n",
    "    else:\n",
    "        print(\"Both Lists are not identical\")\n",
    "\n",
    "check_if(player1,player2)    \n"
   ]
  }
 ],
 "metadata": {
  "kernelspec": {
   "display_name": "Python 3 (ipykernel)",
   "language": "python",
   "name": "python3"
  },
  "language_info": {
   "codemirror_mode": {
    "name": "ipython",
    "version": 3
   },
   "file_extension": ".py",
   "mimetype": "text/x-python",
   "name": "python",
   "nbconvert_exporter": "python",
   "pygments_lexer": "ipython3",
   "version": "3.9.5"
  }
 },
 "nbformat": 4,
 "nbformat_minor": 5
}
