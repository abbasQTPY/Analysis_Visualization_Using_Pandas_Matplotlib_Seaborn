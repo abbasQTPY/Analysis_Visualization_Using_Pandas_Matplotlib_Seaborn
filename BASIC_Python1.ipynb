{
 "cells": [
  {
   "cell_type": "markdown",
   "id": "74239816",
   "metadata": {},
   "source": [
    "# Lab01_task01"
   ]
  },
  {
   "cell_type": "code",
   "execution_count": 1,
   "id": "baec6c0f",
   "metadata": {},
   "outputs": [
    {
     "name": "stdout",
     "output_type": "stream",
     "text": [
      "Enter Temperature in °C23\n",
      "temperature in F is 73.4\n"
     ]
    }
   ],
   "source": [
    "celsius = float(input(\"Enter Temperature in °C\"))\n",
    "\n",
    "farhenhiet = (1.8*celsius+32)\n",
    "print(\"temperature in F is \"+str(farhenhiet))\n"
   ]
  },
  {
   "cell_type": "markdown",
   "id": "2adc4b0b",
   "metadata": {},
   "source": [
    "# Lab01_TASK02"
   ]
  },
  {
   "cell_type": "code",
   "execution_count": 2,
   "id": "203c1692",
   "metadata": {},
   "outputs": [
    {
     "name": "stdout",
     "output_type": "stream",
     "text": [
      "Enter a String : AbbasHassan\n",
      "Encrypted: nassaHsabbA\n"
     ]
    }
   ],
   "source": [
    "name=input(\"Enter a String : \")\n",
    "print(\"Encrypted: \"+name[::-1])\n"
   ]
  },
  {
   "cell_type": "markdown",
   "id": "a82d613c",
   "metadata": {},
   "source": [
    "# Lab01_TASK03"
   ]
  },
  {
   "cell_type": "code",
   "execution_count": 3,
   "id": "cdbb8b26",
   "metadata": {},
   "outputs": [
    {
     "data": {
      "text/plain": [
       "[0, 2, 4, 6, 8, 10, 12, 14, 16, 18, 20]"
      ]
     },
     "execution_count": 3,
     "metadata": {},
     "output_type": "execute_result"
    }
   ],
   "source": [
    "my_list= list(range(0,22,2))\n",
    "my_list\n",
    "\n"
   ]
  },
  {
   "cell_type": "markdown",
   "id": "32c9f1bd",
   "metadata": {},
   "source": [
    "# Lab01_TASK04"
   ]
  },
  {
   "cell_type": "code",
   "execution_count": 4,
   "id": "a14f386f",
   "metadata": {},
   "outputs": [
    {
     "name": "stdout",
     "output_type": "stream",
     "text": [
      "Enter a year  2023\n",
      "The year isn't a leap year!\n"
     ]
    }
   ],
   "source": [
    "year=int(input(\"Enter a year  \"))\n",
    "\n",
    "\n",
    "if(year % 4 == 0 and year % 100 !=0 or year % 400 ==0):\n",
    "\n",
    "\n",
    "    print(\"The year\", year,\" is a leap year!\")\n",
    "\n",
    "else:\n",
    "\n",
    "    print(\"The year isn't a leap year!\")"
   ]
  },
  {
   "cell_type": "markdown",
   "id": "810cce68",
   "metadata": {},
   "source": [
    "# Lab01_TASK05"
   ]
  },
  {
   "cell_type": "code",
   "execution_count": 5,
   "id": "b490a082",
   "metadata": {},
   "outputs": [
    {
     "name": "stdout",
     "output_type": "stream",
     "text": [
      "Enter Username: Abbas\n",
      "Enter Password: Hassan\n",
      "Welcome\n"
     ]
    }
   ],
   "source": [
    "username=\"Abbas\"\n",
    "password=\"Hassan\"\n",
    "\n",
    "Auth01 = input(\"Enter Username: \")\n",
    "Auth02 = input(\"Enter Password: \")\n",
    "if Auth01 == username and Auth02== password :\n",
    "    print(\"Welcome\")\n",
    "else:\n",
    "    print(\"Incrorrect\")"
   ]
  },
  {
   "cell_type": "markdown",
   "id": "aecd8c0f",
   "metadata": {},
   "source": [
    "# Lab01_TASK06"
   ]
  },
  {
   "cell_type": "code",
   "execution_count": 6,
   "id": "bc8f1422",
   "metadata": {},
   "outputs": [
    {
     "name": "stdout",
     "output_type": "stream",
     "text": [
      "Enter marks of Computer: 88\n",
      "Enter marks of Physics: 98\n",
      "Enter marks of Mathematics: 78\n",
      "Enter marks of Biology: 66\n",
      "Enter marks of Chemistry: 54\n",
      "Total marks out of 500 marks =  384.0 /500  \n",
      " Percentage =  76.8 % \n",
      " Grade =  C\n"
     ]
    }
   ],
   "source": [
    "Computer = float(input(\"Enter marks of Computer: \"))\n",
    "Physics = float(input(\"Enter marks of Physics: \"))\n",
    "Mathematics = float(input(\"Enter marks of Mathematics: \"))\n",
    "Biology = float(input(\"Enter marks of Biology: \"))\n",
    "Chemistry = float(input(\"Enter marks of Chemistry: \"))\n",
    "\n",
    "total = Mathematics + Chemistry + Biology + Physics +Computer \n",
    "percentage = total/5\n",
    "if(percentage >= 90):\n",
    "    grade = \"A\"\n",
    "elif(percentage >= 80):\n",
    "    grade = \"B\"\n",
    "elif(percentage >= 70):\n",
    "    grade = \"C\"\n",
    "elif(percentage >= 60):\n",
    "    grade = \"D\"\n",
    "elif(percentage >= 40):\n",
    "    grade = \"E\"\n",
    "else:\n",
    "    grade = \"F\"\n",
    "print(\"Total marks out of 500 marks = \",total,\"/500\",\" \\n Percentage = \",percentage,\"% \\n Grade = \",grade)\n"
   ]
  }
 ],
 "metadata": {
  "kernelspec": {
   "display_name": "Python 3 (ipykernel)",
   "language": "python",
   "name": "python3"
  },
  "language_info": {
   "codemirror_mode": {
    "name": "ipython",
    "version": 3
   },
   "file_extension": ".py",
   "mimetype": "text/x-python",
   "name": "python",
   "nbconvert_exporter": "python",
   "pygments_lexer": "ipython3",
   "version": "3.9.5"
  }
 },
 "nbformat": 4,
 "nbformat_minor": 5
}
